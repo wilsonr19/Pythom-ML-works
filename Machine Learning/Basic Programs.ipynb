{
 "cells": [
  {
   "cell_type": "markdown",
   "metadata": {},
   "source": [
    "# Factorial"
   ]
  },
  {
   "cell_type": "code",
   "execution_count": 14,
   "metadata": {},
   "outputs": [
    {
     "name": "stdout",
     "output_type": "stream",
     "text": [
      "factorial of 10 is 3628800\n"
     ]
    }
   ],
   "source": [
    "# findind in a simple way\n",
    "def fact(a):\n",
    "    if a==0 or a==1:\n",
    "        return 1\n",
    "    else:\n",
    "        return a*fact(a-1)\n",
    "a=10\n",
    "print(\"factorial of\",a,\"is\",fact(a))\n",
    "#a=int(input(\"enter a number\"))\n"
   ]
  },
  {
   "cell_type": "code",
   "execution_count": 13,
   "metadata": {},
   "outputs": [
    {
     "name": "stdout",
     "output_type": "stream",
     "text": [
      "enter a number5\n",
      "Factorial of 5 is: 120\n"
     ]
    }
   ],
   "source": [
    "#finding factorial using recursion\n",
    "def fact(n):\n",
    "    if n==1 or n==0:\n",
    "        return n\n",
    "    else:\n",
    "        return n*fact(n-1)\n",
    "    \n",
    "n=int(input(\"enter a number\"))\n",
    "#fact(n)\n",
    "if n<0:\n",
    "    print(\"it is negative\")\n",
    "elif n==0:\n",
    "    print(\"fact is 0 and 1\")\n",
    "    \n",
    "else:\n",
    "        print(\"Factorial of\",n,\"is:\",fact(n))"
   ]
  },
  {
   "cell_type": "code",
   "execution_count": null,
   "metadata": {},
   "outputs": [],
   "source": [
    "#finding factorial without recursion\n",
    "a=int(input(\"enter a number\"))\n",
    "fact=1\n",
    "while(a>0):\n",
    "    fact=fact*a\n",
    "    a=a-1\n",
    "print(\"factorial is\",fact)"
   ]
  },
  {
   "cell_type": "markdown",
   "metadata": {},
   "source": [
    "# Fibonacci"
   ]
  },
  {
   "cell_type": "code",
   "execution_count": null,
   "metadata": {},
   "outputs": [],
   "source": [
    "series=int(input(\"enter a number\"))\n",
    "s1,s2=0,1\n",
    "count=0\n",
    "while(count<series):\n",
    "    print(s1)\n",
    "    temp=s1+s2\n",
    "    s1=s2\n",
    "    s2=temp\n",
    "    count=count+1"
   ]
  },
  {
   "cell_type": "markdown",
   "metadata": {},
   "source": [
    "# Logic Gates"
   ]
  },
  {
   "cell_type": "code",
   "execution_count": 9,
   "metadata": {},
   "outputs": [
    {
     "name": "stdout",
     "output_type": "stream",
     "text": [
      "Enter 0 or 1: 1\n"
     ]
    },
    {
     "data": {
      "text/plain": [
       "'False'"
      ]
     },
     "execution_count": 9,
     "metadata": {},
     "output_type": "execute_result"
    }
   ],
   "source": [
    "#NOT\n",
    "def not_gate(a):\n",
    "    if a!=1:\n",
    "        return \"True\"\n",
    "    else:\n",
    "        return \"False\"\n",
    "a=int(input(\"Enter 0 or 1: \"))\n",
    "not_gate(a)"
   ]
  },
  {
   "cell_type": "code",
   "execution_count": null,
   "metadata": {},
   "outputs": [],
   "source": [
    "#AND\n",
    "def AND(a,b):\n",
    "    if a==1 and b==1:\n",
    "        return True\n",
    "    else:\n",
    "        return False\n",
    "\n",
    "if __name__ == '__main__':\n",
    "    print(AND(1,1))"
   ]
  },
  {
   "cell_type": "code",
   "execution_count": null,
   "metadata": {
    "scrolled": true
   },
   "outputs": [],
   "source": [
    "#AND\n",
    "def AND(a,b):\n",
    "    if a==1 and b==1:\n",
    "        return True\n",
    "    else:\n",
    "        return False\n",
    "\n",
    "a=int(input(\"enter 0 or 1::\"))\n",
    "b=int(input(\"enter 0 or 1::\"))\n",
    "AND(a,b)"
   ]
  },
  {
   "cell_type": "code",
   "execution_count": null,
   "metadata": {
    "scrolled": true
   },
   "outputs": [],
   "source": [
    "#OR\n",
    "def OR(a,b):\n",
    "    if a==1:\n",
    "        return True\n",
    "    elif b==1:\n",
    "        return True\n",
    "    else:\n",
    "        return False\n",
    "\n",
    "a=int(input(\"enter 0 or 1::\"))\n",
    "b=int(input(\"enter 0 or 1::\"))\n",
    "OR(a,b)"
   ]
  },
  {
   "cell_type": "code",
   "execution_count": null,
   "metadata": {
    "scrolled": true
   },
   "outputs": [],
   "source": [
    "#NAND\n",
    "def NAND(a,b):\n",
    "    if a==1 and b==1:\n",
    "        return False\n",
    "    else:\n",
    "        return True\n",
    "\n",
    "a=int(input(\"enter 0 or 1::\"))\n",
    "b=int(input(\"enter 0 or 1::\"))\n",
    "NAND(a,b)"
   ]
  },
  {
   "cell_type": "code",
   "execution_count": null,
   "metadata": {},
   "outputs": [],
   "source": [
    "#NOR\n",
    "def NOR(a,b):\n",
    "    if a==1:\n",
    "        return False\n",
    "    elif b==1:\n",
    "        return False\n",
    "    else:\n",
    "        return True\n",
    "\n",
    "a=int(input(\"enter 0 or 1::\"))\n",
    "b=int(input(\"enter 0 or 1::\"))\n",
    "NOR(a,b)"
   ]
  },
  {
   "cell_type": "code",
   "execution_count": 1,
   "metadata": {},
   "outputs": [
    {
     "name": "stdout",
     "output_type": "stream",
     "text": [
      "enter 0 or 1: 0\n",
      "Not Gate value is: 1\n"
     ]
    }
   ],
   "source": [
    "#WITHOUT IF OR LOOP\n",
    "\n",
    "#NOT GATE\n",
    "def not_gate(x):\n",
    "    y=(x-1)**2\n",
    "    return y\n",
    "x=int(input(\"enter 0 or 1: \"))\n",
    "if __name__=='__main__':\n",
    "    print(\"Not Gate value is:\",not_gate(x))"
   ]
  },
  {
   "cell_type": "code",
   "execution_count": 2,
   "metadata": {
    "scrolled": true
   },
   "outputs": [
    {
     "name": "stdout",
     "output_type": "stream",
     "text": [
      "enter o or 1: 0\n",
      "enter o or 1: 0\n",
      "And Gate Value is:  0\n"
     ]
    }
   ],
   "source": [
    "#AND GATE\n",
    "def and_gate(x1,x2):\n",
    "    a=x1*x2\n",
    "    return a\n",
    "x1=int(input(\"enter o or 1: \"))\n",
    "x2=int(input(\"enter o or 1: \"))\n",
    "if __name__=='__main__':\n",
    "    print(\"And Gate Value is: \",and_gate(x1,x2))"
   ]
  },
  {
   "cell_type": "code",
   "execution_count": 4,
   "metadata": {},
   "outputs": [
    {
     "name": "stdout",
     "output_type": "stream",
     "text": [
      "enter o or 1: 0\n",
      "enter o or 1: 1\n",
      "And Gate Value is:  1\n"
     ]
    }
   ],
   "source": [
    "#OR GATE\n",
    "def or_gate(x1,x2):\n",
    "    a=(x1+x2)-(x1*x2)\n",
    "    return a\n",
    "x1=int(input(\"enter o or 1: \"))\n",
    "x2=int(input(\"enter o or 1: \"))\n",
    "if __name__=='__main__':\n",
    "    print(\"And Gate Value is: \",or_gate(x1,x2))"
   ]
  },
  {
   "cell_type": "code",
   "execution_count": null,
   "metadata": {
    "scrolled": true
   },
   "outputs": [],
   "source": [
    "#NAND GATE\n",
    "def nand_gate(x1,x2):\n",
    "    a=(x1*x2) # and gate\n",
    "    b=(a-1)**2 # not gate\n",
    "    return b\n",
    "x1=int(input(\"enter o or 1: \"))\n",
    "x2=int(input(\"enter o or 1: \"))\n",
    "if __name__=='__main__':\n",
    "    print(\"Nand Gate Value is: \",nand_gate(x1,x2))"
   ]
  },
  {
   "cell_type": "code",
   "execution_count": null,
   "metadata": {},
   "outputs": [],
   "source": [
    "#NOR GATE\n",
    "def nor_gate(x1,x2):\n",
    "    a=(x1+x2)-(x1*x2)\n",
    "    b=(a-1)**2\n",
    "    return b\n",
    "x1=int(input(\"enter o or 1: \"))\n",
    "x2=int(input(\"enter o or 1: \"))\n",
    "if __name__=='__main__':\n",
    "    print(\"Nor Gate Value is: \",nor_gate(x1,x2))"
   ]
  },
  {
   "cell_type": "markdown",
   "metadata": {},
   "source": [
    "# Linear Search"
   ]
  },
  {
   "cell_type": "code",
   "execution_count": null,
   "metadata": {},
   "outputs": [],
   "source": [
    "listt=[90,3,56,2,34,98,0,2,3,4]\n",
    "li=int(input(\"enter element to be search: \"))\n",
    "for i in range(len(listt)):\n",
    "    #print(li)\n",
    "    if (listt[i]==li):\n",
    "        print(\"Element Found At Position: \",i)\n",
    "        break\n",
    "else:\n",
    "        print(\"Elemnet Not Found: \")\n",
    "        #break"
   ]
  },
  {
   "cell_type": "code",
   "execution_count": null,
   "metadata": {},
   "outputs": [],
   "source": [
    "# A=[8,12,3,9,5,7]\n",
    "# a=int (input(\"search the element\"))\n",
    "# for i in range(0,6):\n",
    "#     if (A[i]==a):\n",
    "#         print(\"element is found at position\",i)\n",
    "#         break\n",
    "\n",
    "# else:\n",
    "#         print (\"element not found\")\n"
   ]
  },
  {
   "cell_type": "code",
   "execution_count": null,
   "metadata": {},
   "outputs": [],
   "source": [
    "#linear search definition\n",
    "def linear(arr,x):\n",
    "    for i in range (len(arr)):\n",
    "        if (arr[i]==x):\n",
    "            #return i\n",
    "            print( \"Element fount At Position: \",i) \n",
    "            break\n",
    "    else:\n",
    "            return \"Element Not Found\"\n",
    "arr=[2,3,4,68,9,0,2,3]\n",
    "x=int(input(\"Enter An Element: \"))\n",
    "linear(arr,x)"
   ]
  },
  {
   "cell_type": "markdown",
   "metadata": {},
   "source": [
    "# Binary Search"
   ]
  },
  {
   "cell_type": "code",
   "execution_count": null,
   "metadata": {},
   "outputs": [],
   "source": []
  },
  {
   "cell_type": "markdown",
   "metadata": {},
   "source": [
    "# Sorting Algorithms"
   ]
  },
  {
   "cell_type": "code",
   "execution_count": null,
   "metadata": {},
   "outputs": [],
   "source": [
    "#BUBBLE SORT\n",
    "sort=[45,78,12,89,56,100]\n",
    "n=len(sort)\n",
    "for i in range(0,n):\n",
    "    for j in range(i):\n",
    "        if sort[j]>sort[j+1]:\n",
    "            sort[j],sort[j+1]=sort[j+1],sort[j]\n",
    "print(\"The Sorted List Is: \",sort)"
   ]
  },
  {
   "cell_type": "code",
   "execution_count": null,
   "metadata": {},
   "outputs": [],
   "source": [
    "def bubble_sort(arr):\n",
    "    for i in range(len(arr)-1,0):\n",
    "        for j in range(i):\n",
    "            if arr[j]>arr[j+1]:\n",
    "                temp=arr[j]\n",
    "                arr[j]=arr[j+1]\n",
    "                arr[j+1]=temp\n",
    "arr=[34,100,99,2,45]\n",
    "#print(\"Bubble Sort is: \",bubble_sort(arr))\n",
    "bubble_sort(arr)"
   ]
  },
  {
   "cell_type": "code",
   "execution_count": null,
   "metadata": {},
   "outputs": [],
   "source": [
    "#INSERTION SORT\n",
    "sort=[90,34,87,200,100]\n",
    "n=len(sort)\n",
    "for i in range(1,n):\n",
    "    key=sort[i]\n",
    "    j=i-1\n",
    "    while j>=0 and sort[j]>key:\n",
    "        key=sort[j]\n",
    "        sort[j]=sort[j+1]\n",
    "        sort[j+1]=key\n",
    "        j=j-1\n",
    "print(\"The Sorted List Is: \",sort)"
   ]
  },
  {
   "cell_type": "code",
   "execution_count": null,
   "metadata": {},
   "outputs": [],
   "source": [
    "# a = [10,9,8,7,6,5,4,3,21]\n",
    "# n = len(a)\n",
    "# for j in range(1,n):\n",
    "#     key = a[j]\n",
    "#     i = j-1\n",
    "#     while i >=0 and a[i] >key:\n",
    "#         k = a[i]\n",
    "#         a[i] = a[i+1]\n",
    "#         a[i+1] = k\n",
    "#         i = i-1\n",
    "# print (\"sorted array is\",a)\n"
   ]
  },
  {
   "cell_type": "code",
   "execution_count": null,
   "metadata": {},
   "outputs": [],
   "source": [
    "#SELECTION SORT\n"
   ]
  },
  {
   "cell_type": "markdown",
   "metadata": {},
   "source": [
    "# Palindrome "
   ]
  },
  {
   "cell_type": "code",
   "execution_count": null,
   "metadata": {},
   "outputs": [],
   "source": [
    "def palindrome(val):\n",
    "    if len(val)>0:\n",
    "        reverse = val[::-1]\n",
    "        if val==reverse:\n",
    "            return \"It is A Palindrome\"\n",
    "        else:\n",
    "            return \"Ii is Not A Palindrome\"\n",
    "val=input(\"Enter A Value: \")\n",
    "\n",
    "\n",
    "#if __name__==\"__main__\":\n",
    "palindrome(val)"
   ]
  },
  {
   "cell_type": "markdown",
   "metadata": {},
   "source": [
    "##### num=int(input(\"Enter A Number: \"))\n",
    "rev=0\n",
    "temp=num\n",
    "while (num>0):\n",
    "    digit=num%10\n",
    "    rev=rev*10+digit\n",
    "    num=num/10\n",
    "if temp==rev:\n",
    "    print(\"The Number Is Palindrome\")\n",
    "else:\n",
    "    print(\"The Number Is Not a Palindrome\")"
   ]
  },
  {
   "cell_type": "code",
   "execution_count": null,
   "metadata": {},
   "outputs": [],
   "source": [
    "num=int(input(\"Enter A Number: \"))\n",
    "rev=0\n",
    "temp=num\n",
    "while (num>0):\n",
    "    digit=num%10\n",
    "    rev=rev*10+digit\n",
    "    num=num//10\n",
    "if temp==rev:\n",
    "    print(\"The Number Is Palindrome\")\n",
    "else:\n",
    "    print(\"The Number Is Not a Palindrome\")"
   ]
  },
  {
   "cell_type": "markdown",
   "metadata": {},
   "source": [
    "# Even Odd"
   ]
  },
  {
   "cell_type": "code",
   "execution_count": null,
   "metadata": {},
   "outputs": [],
   "source": [
    "#PROGRAM TO FIND NUMBER IS EVEN OR ODD\n",
    "a=int(input(\"Enter an Number: \"))\n",
    "if (a%2)==0:\n",
    "    print(\"Number is Even\")\n",
    "else:\n",
    "    print(\"Number is Odd\")"
   ]
  },
  {
   "cell_type": "code",
   "execution_count": null,
   "metadata": {},
   "outputs": [],
   "source": [
    "def even_odd(n):\n",
    "    if n%2==0:\n",
    "        return \"EVEN\"\n",
    "    else:\n",
    "        return \"ODD\"\n",
    "    \n",
    "n=float(input(\"Enter An Number: \"))\n",
    "even_odd(n)"
   ]
  },
  {
   "cell_type": "markdown",
   "metadata": {},
   "source": [
    "# Reverse of a Number"
   ]
  },
  {
   "cell_type": "code",
   "execution_count": 20,
   "metadata": {},
   "outputs": [
    {
     "name": "stdout",
     "output_type": "stream",
     "text": [
      "Enter A Number:56\n",
      "The Reverse Of Number is 65\n"
     ]
    }
   ],
   "source": [
    "number=int(input(\"Enter A Number:\"))\n",
    "reverse=0\n",
    "while number>0:\n",
    "    remainder=number%10\n",
    "    reverse=(10*reverse)+remainder\n",
    "    number=number//10\n",
    "print(\"The Reverse Of Number is\",reverse)"
   ]
  },
  {
   "cell_type": "code",
   "execution_count": 1,
   "metadata": {},
   "outputs": [
    {
     "name": "stdout",
     "output_type": "stream",
     "text": [
      "[2, 3, 4]\n"
     ]
    }
   ],
   "source": [
    "a,*b=(1,2,3,4)\n",
    "print(b)"
   ]
  },
  {
   "cell_type": "code",
   "execution_count": null,
   "metadata": {},
   "outputs": [],
   "source": []
  }
 ],
 "metadata": {
  "kernelspec": {
   "display_name": "Python 3",
   "language": "python",
   "name": "python3"
  },
  "language_info": {
   "codemirror_mode": {
    "name": "ipython",
    "version": 3
   },
   "file_extension": ".py",
   "mimetype": "text/x-python",
   "name": "python",
   "nbconvert_exporter": "python",
   "pygments_lexer": "ipython3",
   "version": "3.7.3"
  }
 },
 "nbformat": 4,
 "nbformat_minor": 2
}
